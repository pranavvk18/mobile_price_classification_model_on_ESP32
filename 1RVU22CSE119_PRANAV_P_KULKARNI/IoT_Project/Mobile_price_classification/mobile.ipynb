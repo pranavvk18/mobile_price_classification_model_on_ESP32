{
 "cells": [
  {
   "cell_type": "code",
   "execution_count": 1,
   "metadata": {},
   "outputs": [],
   "source": [
    "import pandas as pd\n",
    "import numpy as np\n",
    "import matplotlib.pyplot as plt\n",
    "import tensorflow as tf\n",
    "from tensorflow.keras.models import Sequential\n",
    "from tensorflow.keras.layers import Dense\n",
    "from sklearn.model_selection import train_test_split\n",
    "from sklearn.preprocessing import StandardScaler\n",
    "from tensorflow.keras.utils import to_categorical"
   ]
  },
  {
   "cell_type": "code",
   "execution_count": 2,
   "metadata": {},
   "outputs": [],
   "source": [
    "# Load the dataset\n",
    "df = pd.read_csv(\"train.csv\")"
   ]
  },
  {
   "cell_type": "code",
   "execution_count": 3,
   "metadata": {},
   "outputs": [
    {
     "data": {
      "text/html": [
       "<div>\n",
       "<style scoped>\n",
       "    .dataframe tbody tr th:only-of-type {\n",
       "        vertical-align: middle;\n",
       "    }\n",
       "\n",
       "    .dataframe tbody tr th {\n",
       "        vertical-align: top;\n",
       "    }\n",
       "\n",
       "    .dataframe thead th {\n",
       "        text-align: right;\n",
       "    }\n",
       "</style>\n",
       "<table border=\"1\" class=\"dataframe\">\n",
       "  <thead>\n",
       "    <tr style=\"text-align: right;\">\n",
       "      <th></th>\n",
       "      <th>battery_power</th>\n",
       "      <th>blue</th>\n",
       "      <th>clock_speed</th>\n",
       "      <th>dual_sim</th>\n",
       "      <th>fc</th>\n",
       "      <th>four_g</th>\n",
       "      <th>int_memory</th>\n",
       "      <th>m_dep</th>\n",
       "      <th>mobile_wt</th>\n",
       "      <th>n_cores</th>\n",
       "      <th>...</th>\n",
       "      <th>px_height</th>\n",
       "      <th>px_width</th>\n",
       "      <th>ram</th>\n",
       "      <th>sc_h</th>\n",
       "      <th>sc_w</th>\n",
       "      <th>talk_time</th>\n",
       "      <th>three_g</th>\n",
       "      <th>touch_screen</th>\n",
       "      <th>wifi</th>\n",
       "      <th>price_range</th>\n",
       "    </tr>\n",
       "  </thead>\n",
       "  <tbody>\n",
       "    <tr>\n",
       "      <th>0</th>\n",
       "      <td>842</td>\n",
       "      <td>0</td>\n",
       "      <td>2.2</td>\n",
       "      <td>0</td>\n",
       "      <td>1</td>\n",
       "      <td>0</td>\n",
       "      <td>7</td>\n",
       "      <td>0.6</td>\n",
       "      <td>188</td>\n",
       "      <td>2</td>\n",
       "      <td>...</td>\n",
       "      <td>20</td>\n",
       "      <td>756</td>\n",
       "      <td>2549</td>\n",
       "      <td>9</td>\n",
       "      <td>7</td>\n",
       "      <td>19</td>\n",
       "      <td>0</td>\n",
       "      <td>0</td>\n",
       "      <td>1</td>\n",
       "      <td>1</td>\n",
       "    </tr>\n",
       "    <tr>\n",
       "      <th>1</th>\n",
       "      <td>1021</td>\n",
       "      <td>1</td>\n",
       "      <td>0.5</td>\n",
       "      <td>1</td>\n",
       "      <td>0</td>\n",
       "      <td>1</td>\n",
       "      <td>53</td>\n",
       "      <td>0.7</td>\n",
       "      <td>136</td>\n",
       "      <td>3</td>\n",
       "      <td>...</td>\n",
       "      <td>905</td>\n",
       "      <td>1988</td>\n",
       "      <td>2631</td>\n",
       "      <td>17</td>\n",
       "      <td>3</td>\n",
       "      <td>7</td>\n",
       "      <td>1</td>\n",
       "      <td>1</td>\n",
       "      <td>0</td>\n",
       "      <td>2</td>\n",
       "    </tr>\n",
       "    <tr>\n",
       "      <th>2</th>\n",
       "      <td>563</td>\n",
       "      <td>1</td>\n",
       "      <td>0.5</td>\n",
       "      <td>1</td>\n",
       "      <td>2</td>\n",
       "      <td>1</td>\n",
       "      <td>41</td>\n",
       "      <td>0.9</td>\n",
       "      <td>145</td>\n",
       "      <td>5</td>\n",
       "      <td>...</td>\n",
       "      <td>1263</td>\n",
       "      <td>1716</td>\n",
       "      <td>2603</td>\n",
       "      <td>11</td>\n",
       "      <td>2</td>\n",
       "      <td>9</td>\n",
       "      <td>1</td>\n",
       "      <td>1</td>\n",
       "      <td>0</td>\n",
       "      <td>2</td>\n",
       "    </tr>\n",
       "    <tr>\n",
       "      <th>3</th>\n",
       "      <td>615</td>\n",
       "      <td>1</td>\n",
       "      <td>2.5</td>\n",
       "      <td>0</td>\n",
       "      <td>0</td>\n",
       "      <td>0</td>\n",
       "      <td>10</td>\n",
       "      <td>0.8</td>\n",
       "      <td>131</td>\n",
       "      <td>6</td>\n",
       "      <td>...</td>\n",
       "      <td>1216</td>\n",
       "      <td>1786</td>\n",
       "      <td>2769</td>\n",
       "      <td>16</td>\n",
       "      <td>8</td>\n",
       "      <td>11</td>\n",
       "      <td>1</td>\n",
       "      <td>0</td>\n",
       "      <td>0</td>\n",
       "      <td>2</td>\n",
       "    </tr>\n",
       "    <tr>\n",
       "      <th>4</th>\n",
       "      <td>1821</td>\n",
       "      <td>1</td>\n",
       "      <td>1.2</td>\n",
       "      <td>0</td>\n",
       "      <td>13</td>\n",
       "      <td>1</td>\n",
       "      <td>44</td>\n",
       "      <td>0.6</td>\n",
       "      <td>141</td>\n",
       "      <td>2</td>\n",
       "      <td>...</td>\n",
       "      <td>1208</td>\n",
       "      <td>1212</td>\n",
       "      <td>1411</td>\n",
       "      <td>8</td>\n",
       "      <td>2</td>\n",
       "      <td>15</td>\n",
       "      <td>1</td>\n",
       "      <td>1</td>\n",
       "      <td>0</td>\n",
       "      <td>1</td>\n",
       "    </tr>\n",
       "  </tbody>\n",
       "</table>\n",
       "<p>5 rows × 21 columns</p>\n",
       "</div>"
      ],
      "text/plain": [
       "   battery_power  blue  clock_speed  dual_sim  fc  four_g  int_memory  m_dep  \\\n",
       "0            842     0          2.2         0   1       0           7    0.6   \n",
       "1           1021     1          0.5         1   0       1          53    0.7   \n",
       "2            563     1          0.5         1   2       1          41    0.9   \n",
       "3            615     1          2.5         0   0       0          10    0.8   \n",
       "4           1821     1          1.2         0  13       1          44    0.6   \n",
       "\n",
       "   mobile_wt  n_cores  ...  px_height  px_width   ram  sc_h  sc_w  talk_time  \\\n",
       "0        188        2  ...         20       756  2549     9     7         19   \n",
       "1        136        3  ...        905      1988  2631    17     3          7   \n",
       "2        145        5  ...       1263      1716  2603    11     2          9   \n",
       "3        131        6  ...       1216      1786  2769    16     8         11   \n",
       "4        141        2  ...       1208      1212  1411     8     2         15   \n",
       "\n",
       "   three_g  touch_screen  wifi  price_range  \n",
       "0        0             0     1            1  \n",
       "1        1             1     0            2  \n",
       "2        1             1     0            2  \n",
       "3        1             0     0            2  \n",
       "4        1             1     0            1  \n",
       "\n",
       "[5 rows x 21 columns]"
      ]
     },
     "execution_count": 3,
     "metadata": {},
     "output_type": "execute_result"
    }
   ],
   "source": [
    "# Correct column name\n",
    "df.columns = df.columns.str.strip()  # Remove any leading/trailing spaces in column names\n",
    "df.head()"
   ]
  },
  {
   "cell_type": "code",
   "execution_count": 4,
   "metadata": {},
   "outputs": [
    {
     "data": {
      "text/plain": [
       "battery_power    0\n",
       "blue             0\n",
       "clock_speed      0\n",
       "dual_sim         0\n",
       "fc               0\n",
       "four_g           0\n",
       "int_memory       0\n",
       "m_dep            0\n",
       "mobile_wt        0\n",
       "n_cores          0\n",
       "pc               0\n",
       "px_height        0\n",
       "px_width         0\n",
       "ram              0\n",
       "sc_h             0\n",
       "sc_w             0\n",
       "talk_time        0\n",
       "three_g          0\n",
       "touch_screen     0\n",
       "wifi             0\n",
       "price_range      0\n",
       "dtype: int64"
      ]
     },
     "execution_count": 4,
     "metadata": {},
     "output_type": "execute_result"
    }
   ],
   "source": [
    "df.isnull().sum()"
   ]
  },
  {
   "cell_type": "code",
   "execution_count": 5,
   "metadata": {},
   "outputs": [
    {
     "name": "stdout",
     "output_type": "stream",
     "text": [
      "battery_power    0\n",
      "blue             0\n",
      "clock_speed      0\n",
      "dual_sim         0\n",
      "fc               0\n",
      "four_g           0\n",
      "int_memory       0\n",
      "m_dep            0\n",
      "mobile_wt        0\n",
      "n_cores          0\n",
      "pc               0\n",
      "px_height        0\n",
      "px_width         0\n",
      "ram              0\n",
      "sc_h             0\n",
      "sc_w             0\n",
      "talk_time        0\n",
      "three_g          0\n",
      "touch_screen     0\n",
      "wifi             0\n",
      "price_range      0\n",
      "dtype: int64\n"
     ]
    }
   ],
   "source": [
    "print(df.isna().sum())"
   ]
  },
  {
   "cell_type": "code",
   "execution_count": 6,
   "metadata": {},
   "outputs": [
    {
     "data": {
      "text/plain": [
       "(2000, 21)"
      ]
     },
     "execution_count": 6,
     "metadata": {},
     "output_type": "execute_result"
    }
   ],
   "source": [
    "df.shape"
   ]
  },
  {
   "cell_type": "code",
   "execution_count": 7,
   "metadata": {},
   "outputs": [
    {
     "data": {
      "text/plain": [
       "1    500\n",
       "2    500\n",
       "3    500\n",
       "0    500\n",
       "Name: price_range, dtype: int64"
      ]
     },
     "execution_count": 7,
     "metadata": {},
     "output_type": "execute_result"
    }
   ],
   "source": [
    "df['price_range'].value_counts()"
   ]
  },
  {
   "cell_type": "code",
   "execution_count": 8,
   "metadata": {},
   "outputs": [
    {
     "data": {
      "text/html": [
       "<div>\n",
       "<style scoped>\n",
       "    .dataframe tbody tr th:only-of-type {\n",
       "        vertical-align: middle;\n",
       "    }\n",
       "\n",
       "    .dataframe tbody tr th {\n",
       "        vertical-align: top;\n",
       "    }\n",
       "\n",
       "    .dataframe thead th {\n",
       "        text-align: right;\n",
       "    }\n",
       "</style>\n",
       "<table border=\"1\" class=\"dataframe\">\n",
       "  <thead>\n",
       "    <tr style=\"text-align: right;\">\n",
       "      <th></th>\n",
       "      <th>battery_power</th>\n",
       "      <th>clock_speed</th>\n",
       "      <th>fc</th>\n",
       "      <th>int_memory</th>\n",
       "      <th>m_dep</th>\n",
       "      <th>mobile_wt</th>\n",
       "      <th>n_cores</th>\n",
       "      <th>pc</th>\n",
       "      <th>px_height</th>\n",
       "      <th>px_width</th>\n",
       "      <th>...</th>\n",
       "      <th>dual_sim_0</th>\n",
       "      <th>dual_sim_1</th>\n",
       "      <th>four_g_0</th>\n",
       "      <th>four_g_1</th>\n",
       "      <th>three_g_0</th>\n",
       "      <th>three_g_1</th>\n",
       "      <th>touch_screen_0</th>\n",
       "      <th>touch_screen_1</th>\n",
       "      <th>wifi_0</th>\n",
       "      <th>wifi_1</th>\n",
       "    </tr>\n",
       "  </thead>\n",
       "  <tbody>\n",
       "    <tr>\n",
       "      <th>0</th>\n",
       "      <td>842</td>\n",
       "      <td>2.2</td>\n",
       "      <td>1</td>\n",
       "      <td>7</td>\n",
       "      <td>0.6</td>\n",
       "      <td>188</td>\n",
       "      <td>2</td>\n",
       "      <td>2</td>\n",
       "      <td>20</td>\n",
       "      <td>756</td>\n",
       "      <td>...</td>\n",
       "      <td>1</td>\n",
       "      <td>0</td>\n",
       "      <td>1</td>\n",
       "      <td>0</td>\n",
       "      <td>1</td>\n",
       "      <td>0</td>\n",
       "      <td>1</td>\n",
       "      <td>0</td>\n",
       "      <td>0</td>\n",
       "      <td>1</td>\n",
       "    </tr>\n",
       "    <tr>\n",
       "      <th>1</th>\n",
       "      <td>1021</td>\n",
       "      <td>0.5</td>\n",
       "      <td>0</td>\n",
       "      <td>53</td>\n",
       "      <td>0.7</td>\n",
       "      <td>136</td>\n",
       "      <td>3</td>\n",
       "      <td>6</td>\n",
       "      <td>905</td>\n",
       "      <td>1988</td>\n",
       "      <td>...</td>\n",
       "      <td>0</td>\n",
       "      <td>1</td>\n",
       "      <td>0</td>\n",
       "      <td>1</td>\n",
       "      <td>0</td>\n",
       "      <td>1</td>\n",
       "      <td>0</td>\n",
       "      <td>1</td>\n",
       "      <td>1</td>\n",
       "      <td>0</td>\n",
       "    </tr>\n",
       "    <tr>\n",
       "      <th>2</th>\n",
       "      <td>563</td>\n",
       "      <td>0.5</td>\n",
       "      <td>2</td>\n",
       "      <td>41</td>\n",
       "      <td>0.9</td>\n",
       "      <td>145</td>\n",
       "      <td>5</td>\n",
       "      <td>6</td>\n",
       "      <td>1263</td>\n",
       "      <td>1716</td>\n",
       "      <td>...</td>\n",
       "      <td>0</td>\n",
       "      <td>1</td>\n",
       "      <td>0</td>\n",
       "      <td>1</td>\n",
       "      <td>0</td>\n",
       "      <td>1</td>\n",
       "      <td>0</td>\n",
       "      <td>1</td>\n",
       "      <td>1</td>\n",
       "      <td>0</td>\n",
       "    </tr>\n",
       "    <tr>\n",
       "      <th>3</th>\n",
       "      <td>615</td>\n",
       "      <td>2.5</td>\n",
       "      <td>0</td>\n",
       "      <td>10</td>\n",
       "      <td>0.8</td>\n",
       "      <td>131</td>\n",
       "      <td>6</td>\n",
       "      <td>9</td>\n",
       "      <td>1216</td>\n",
       "      <td>1786</td>\n",
       "      <td>...</td>\n",
       "      <td>1</td>\n",
       "      <td>0</td>\n",
       "      <td>1</td>\n",
       "      <td>0</td>\n",
       "      <td>0</td>\n",
       "      <td>1</td>\n",
       "      <td>1</td>\n",
       "      <td>0</td>\n",
       "      <td>1</td>\n",
       "      <td>0</td>\n",
       "    </tr>\n",
       "    <tr>\n",
       "      <th>4</th>\n",
       "      <td>1821</td>\n",
       "      <td>1.2</td>\n",
       "      <td>13</td>\n",
       "      <td>44</td>\n",
       "      <td>0.6</td>\n",
       "      <td>141</td>\n",
       "      <td>2</td>\n",
       "      <td>14</td>\n",
       "      <td>1208</td>\n",
       "      <td>1212</td>\n",
       "      <td>...</td>\n",
       "      <td>1</td>\n",
       "      <td>0</td>\n",
       "      <td>0</td>\n",
       "      <td>1</td>\n",
       "      <td>0</td>\n",
       "      <td>1</td>\n",
       "      <td>0</td>\n",
       "      <td>1</td>\n",
       "      <td>1</td>\n",
       "      <td>0</td>\n",
       "    </tr>\n",
       "  </tbody>\n",
       "</table>\n",
       "<p>5 rows × 30 columns</p>\n",
       "</div>"
      ],
      "text/plain": [
       "   battery_power  clock_speed  fc  int_memory  m_dep  mobile_wt  n_cores  pc  \\\n",
       "0            842          2.2   1           7    0.6        188        2   2   \n",
       "1           1021          0.5   0          53    0.7        136        3   6   \n",
       "2            563          0.5   2          41    0.9        145        5   6   \n",
       "3            615          2.5   0          10    0.8        131        6   9   \n",
       "4           1821          1.2  13          44    0.6        141        2  14   \n",
       "\n",
       "   px_height  px_width  ...  dual_sim_0  dual_sim_1  four_g_0  four_g_1  \\\n",
       "0         20       756  ...           1           0         1         0   \n",
       "1        905      1988  ...           0           1         0         1   \n",
       "2       1263      1716  ...           0           1         0         1   \n",
       "3       1216      1786  ...           1           0         1         0   \n",
       "4       1208      1212  ...           1           0         0         1   \n",
       "\n",
       "   three_g_0  three_g_1  touch_screen_0  touch_screen_1  wifi_0  wifi_1  \n",
       "0          1          0               1               0       0       1  \n",
       "1          0          1               0               1       1       0  \n",
       "2          0          1               0               1       1       0  \n",
       "3          0          1               1               0       1       0  \n",
       "4          0          1               0               1       1       0  \n",
       "\n",
       "[5 rows x 30 columns]"
      ]
     },
     "execution_count": 8,
     "metadata": {},
     "output_type": "execute_result"
    }
   ],
   "source": [
    "df = pd.get_dummies(df, columns=['price_range','blue', 'dual_sim', 'four_g', 'three_g', 'touch_screen', 'wifi'])\n",
    "df.head()"
   ]
  },
  {
   "cell_type": "code",
   "execution_count": 9,
   "metadata": {},
   "outputs": [
    {
     "data": {
      "text/plain": [
       "Index(['battery_power', 'clock_speed', 'fc', 'int_memory', 'm_dep',\n",
       "       'mobile_wt', 'n_cores', 'pc', 'px_height', 'px_width', 'ram', 'sc_h',\n",
       "       'sc_w', 'talk_time', 'price_range_0', 'price_range_1', 'price_range_2',\n",
       "       'price_range_3', 'blue_0', 'blue_1', 'dual_sim_0', 'dual_sim_1',\n",
       "       'four_g_0', 'four_g_1', 'three_g_0', 'three_g_1', 'touch_screen_0',\n",
       "       'touch_screen_1', 'wifi_0', 'wifi_1'],\n",
       "      dtype='object')"
      ]
     },
     "execution_count": 9,
     "metadata": {},
     "output_type": "execute_result"
    }
   ],
   "source": [
    "df.columns"
   ]
  },
  {
   "cell_type": "code",
   "execution_count": 10,
   "metadata": {},
   "outputs": [],
   "source": [
    "# Define features and target variable\n",
    "X = df.drop(columns = ['price_range_0','price_range_1', 'price_range_2', 'price_range_3'], axis=1)\n",
    "y = df.loc[:, ['price_range_0','price_range_1', 'price_range_2', 'price_range_3']]"
   ]
  },
  {
   "cell_type": "code",
   "execution_count": 39,
   "metadata": {},
   "outputs": [
    {
     "data": {
      "text/html": [
       "<div>\n",
       "<style scoped>\n",
       "    .dataframe tbody tr th:only-of-type {\n",
       "        vertical-align: middle;\n",
       "    }\n",
       "\n",
       "    .dataframe tbody tr th {\n",
       "        vertical-align: top;\n",
       "    }\n",
       "\n",
       "    .dataframe thead th {\n",
       "        text-align: right;\n",
       "    }\n",
       "</style>\n",
       "<table border=\"1\" class=\"dataframe\">\n",
       "  <thead>\n",
       "    <tr style=\"text-align: right;\">\n",
       "      <th></th>\n",
       "      <th>price_range_0</th>\n",
       "      <th>price_range_1</th>\n",
       "      <th>price_range_2</th>\n",
       "      <th>price_range_3</th>\n",
       "    </tr>\n",
       "  </thead>\n",
       "  <tbody>\n",
       "    <tr>\n",
       "      <th>0</th>\n",
       "      <td>0</td>\n",
       "      <td>1</td>\n",
       "      <td>0</td>\n",
       "      <td>0</td>\n",
       "    </tr>\n",
       "    <tr>\n",
       "      <th>1</th>\n",
       "      <td>0</td>\n",
       "      <td>0</td>\n",
       "      <td>1</td>\n",
       "      <td>0</td>\n",
       "    </tr>\n",
       "    <tr>\n",
       "      <th>2</th>\n",
       "      <td>0</td>\n",
       "      <td>0</td>\n",
       "      <td>1</td>\n",
       "      <td>0</td>\n",
       "    </tr>\n",
       "    <tr>\n",
       "      <th>3</th>\n",
       "      <td>0</td>\n",
       "      <td>0</td>\n",
       "      <td>1</td>\n",
       "      <td>0</td>\n",
       "    </tr>\n",
       "    <tr>\n",
       "      <th>4</th>\n",
       "      <td>0</td>\n",
       "      <td>1</td>\n",
       "      <td>0</td>\n",
       "      <td>0</td>\n",
       "    </tr>\n",
       "    <tr>\n",
       "      <th>...</th>\n",
       "      <td>...</td>\n",
       "      <td>...</td>\n",
       "      <td>...</td>\n",
       "      <td>...</td>\n",
       "    </tr>\n",
       "    <tr>\n",
       "      <th>1995</th>\n",
       "      <td>1</td>\n",
       "      <td>0</td>\n",
       "      <td>0</td>\n",
       "      <td>0</td>\n",
       "    </tr>\n",
       "    <tr>\n",
       "      <th>1996</th>\n",
       "      <td>0</td>\n",
       "      <td>0</td>\n",
       "      <td>1</td>\n",
       "      <td>0</td>\n",
       "    </tr>\n",
       "    <tr>\n",
       "      <th>1997</th>\n",
       "      <td>0</td>\n",
       "      <td>0</td>\n",
       "      <td>0</td>\n",
       "      <td>1</td>\n",
       "    </tr>\n",
       "    <tr>\n",
       "      <th>1998</th>\n",
       "      <td>1</td>\n",
       "      <td>0</td>\n",
       "      <td>0</td>\n",
       "      <td>0</td>\n",
       "    </tr>\n",
       "    <tr>\n",
       "      <th>1999</th>\n",
       "      <td>0</td>\n",
       "      <td>0</td>\n",
       "      <td>0</td>\n",
       "      <td>1</td>\n",
       "    </tr>\n",
       "  </tbody>\n",
       "</table>\n",
       "<p>2000 rows × 4 columns</p>\n",
       "</div>"
      ],
      "text/plain": [
       "      price_range_0  price_range_1  price_range_2  price_range_3\n",
       "0                 0              1              0              0\n",
       "1                 0              0              1              0\n",
       "2                 0              0              1              0\n",
       "3                 0              0              1              0\n",
       "4                 0              1              0              0\n",
       "...             ...            ...            ...            ...\n",
       "1995              1              0              0              0\n",
       "1996              0              0              1              0\n",
       "1997              0              0              0              1\n",
       "1998              1              0              0              0\n",
       "1999              0              0              0              1\n",
       "\n",
       "[2000 rows x 4 columns]"
      ]
     },
     "execution_count": 39,
     "metadata": {},
     "output_type": "execute_result"
    }
   ],
   "source": [
    "y"
   ]
  },
  {
   "cell_type": "code",
   "execution_count": 11,
   "metadata": {},
   "outputs": [
    {
     "name": "stdout",
     "output_type": "stream",
     "text": [
      "Shape of X_train and X_test: (1600, 26) (400, 26)\n",
      "Shape of y_train and y_test: (1600, 4) (400, 4)\n"
     ]
    }
   ],
   "source": [
    "from sklearn.model_selection import train_test_split\n",
    "# Split the data into training and testing sets (80-20 split)\n",
    "X_train, X_test, y_train, y_test = train_test_split(X, y, test_size=0.2, random_state=42)\n",
    "print('Shape of X_train and X_test:', X_train.shape, X_test.shape)\n",
    "print('Shape of y_train and y_test:', y_train.shape, y_test.shape)"
   ]
  },
  {
   "cell_type": "code",
   "execution_count": 12,
   "metadata": {},
   "outputs": [
    {
     "name": "stdout",
     "output_type": "stream",
     "text": [
      "Shape of X_train and X_test: (1600, 26) (400, 26)\n",
      "Shape of y_train and y_test: (1600, 4) (400, 4)\n"
     ]
    }
   ],
   "source": [
    "# Identify numerical and binary features\n",
    "numerical_features = ['battery_power', 'clock_speed', 'int_memory', 'm_dep', 'fc', 'mobile_wt', \n",
    "                      'n_cores', 'pc', 'px_height', 'px_width', 'ram', 'sc_h', 'sc_w', 'talk_time']\n",
    "\n",
    "# Initialize the scaler\n",
    "scaler = StandardScaler()\n",
    "\n",
    "# Scale the numerical features in X_train\n",
    "X_train_num_scaled = scaler.fit_transform(X_train[numerical_features])\n",
    "X_test_num_scaled = scaler.transform(X_test[numerical_features])\n",
    "\n",
    "# Convert the scaled numerical features back to DataFrame to keep column names\n",
    "X_train_num_scaled = pd.DataFrame(X_train_num_scaled, columns=numerical_features, index=X_train.index)\n",
    "X_test_num_scaled = pd.DataFrame(X_test_num_scaled, columns=numerical_features, index=X_test.index)\n",
    "\n",
    "# Drop original numerical columns from X_train and X_test\n",
    "X_train = X_train.drop(columns=numerical_features)\n",
    "X_test = X_test.drop(columns=numerical_features)\n",
    "\n",
    "# Concatenate the scaled numerical features back with the rest of X_train and X_test\n",
    "X_train = pd.concat([X_train, X_train_num_scaled], axis=1)\n",
    "X_test = pd.concat([X_test, X_test_num_scaled], axis=1)\n",
    "\n",
    "# Now X_train and X_test have the scaled numerical features and the one-hot encoded binary features\n",
    "print('Shape of X_train and X_test:', X_train.shape, X_test.shape)\n",
    "print('Shape of y_train and y_test:', y_train.shape, y_test.shape)"
   ]
  },
  {
   "cell_type": "code",
   "execution_count": 13,
   "metadata": {},
   "outputs": [
    {
     "data": {
      "text/plain": [
       "array([1.24080875e+03, 1.51362500e+00, 3.22700000e+01, 5.02562500e-01,\n",
       "       4.31000000e+00, 1.40633750e+02, 4.54250000e+00, 9.87812500e+00,\n",
       "       6.44226250e+02, 1.24909188e+03, 2.11613125e+03, 1.22200000e+01,\n",
       "       5.70562500e+00, 1.09568750e+01])"
      ]
     },
     "execution_count": 13,
     "metadata": {},
     "output_type": "execute_result"
    }
   ],
   "source": [
    "# Store mean and std for each feature\n",
    "means = scaler.mean_\n",
    "stds = scaler.scale_\n",
    "means"
   ]
  },
  {
   "cell_type": "code",
   "execution_count": 14,
   "metadata": {},
   "outputs": [
    {
     "data": {
      "text/plain": [
       "array([4.40589647e+02, 8.19932533e-01, 1.81894777e+01, 2.86792056e-01,\n",
       "       4.33793153e+00, 3.53271264e+01, 2.28925616e+00, 6.01296695e+00,\n",
       "       4.45297697e+02, 4.31395297e+02, 1.08037355e+03, 4.20405756e+00,\n",
       "       4.33750716e+00, 5.50602082e+00])"
      ]
     },
     "execution_count": 14,
     "metadata": {},
     "output_type": "execute_result"
    }
   ],
   "source": [
    "stds"
   ]
  },
  {
   "cell_type": "code",
   "execution_count": 15,
   "metadata": {},
   "outputs": [
    {
     "name": "stdout",
     "output_type": "stream",
     "text": [
      "26\n",
      "4\n",
      "Model: \"sequential\"\n",
      "_________________________________________________________________\n",
      " Layer (type)                Output Shape              Param #   \n",
      "=================================================================\n",
      " flatten (Flatten)           (None, 26)                0         \n",
      "                                                                 \n",
      " dense (Dense)               (None, 32)                864       \n",
      "                                                                 \n",
      " dense_1 (Dense)             (None, 4)                 132       \n",
      "                                                                 \n",
      "=================================================================\n",
      "Total params: 996\n",
      "Trainable params: 996\n",
      "Non-trainable params: 0\n",
      "_________________________________________________________________\n"
     ]
    }
   ],
   "source": [
    "DENSE1_SIZE = 32\n",
    "DENSE2_SIZE = 16\n",
    "NUM_OF_EPOCHS = 50 \n",
    "BATCH_SIZE = 8\n",
    "\n",
    "model = tf.keras.Sequential()\n",
    "\n",
    "input_shape = X.shape[1]\n",
    "print(input_shape)\n",
    "model.add(tf.keras.layers.Flatten(input_shape =(X.shape[1],)))\n",
    "\n",
    "model.add(tf.keras.layers.Dense(DENSE1_SIZE, activation='relu'))\n",
    "\n",
    "\n",
    "output_shape = y.shape[1]\n",
    "print(output_shape)\n",
    "model.add(tf.keras.layers.Dense(y.shape[1], activation='softmax'))\n",
    "model.compile(loss='categorical_crossentropy', optimizer='adam', metrics=['acc'])\n",
    "model.summary()"
   ]
  },
  {
   "cell_type": "code",
   "execution_count": 16,
   "metadata": {},
   "outputs": [
    {
     "name": "stdout",
     "output_type": "stream",
     "text": [
      "Epoch 1/50\n",
      "160/160 [==============================] - 1s 3ms/step - loss: 1.3234 - acc: 0.3781 - val_loss: 1.1273 - val_acc: 0.5188\n",
      "Epoch 2/50\n",
      "160/160 [==============================] - 0s 1ms/step - loss: 0.9570 - acc: 0.6117 - val_loss: 0.8851 - val_acc: 0.6625\n",
      "Epoch 3/50\n",
      "160/160 [==============================] - 0s 1ms/step - loss: 0.7427 - acc: 0.7375 - val_loss: 0.7182 - val_acc: 0.7344\n",
      "Epoch 4/50\n",
      "160/160 [==============================] - 0s 1ms/step - loss: 0.6024 - acc: 0.8023 - val_loss: 0.6073 - val_acc: 0.7969\n",
      "Epoch 5/50\n",
      "160/160 [==============================] - 0s 2ms/step - loss: 0.5050 - acc: 0.8578 - val_loss: 0.5169 - val_acc: 0.8594\n",
      "Epoch 6/50\n",
      "160/160 [==============================] - 0s 1ms/step - loss: 0.4327 - acc: 0.8984 - val_loss: 0.4460 - val_acc: 0.8750\n",
      "Epoch 7/50\n",
      "160/160 [==============================] - 0s 2ms/step - loss: 0.3752 - acc: 0.9102 - val_loss: 0.3920 - val_acc: 0.9094\n",
      "Epoch 8/50\n",
      "160/160 [==============================] - 0s 1ms/step - loss: 0.3306 - acc: 0.9219 - val_loss: 0.3504 - val_acc: 0.9187\n",
      "Epoch 9/50\n",
      "160/160 [==============================] - 0s 1ms/step - loss: 0.2948 - acc: 0.9328 - val_loss: 0.3127 - val_acc: 0.9250\n",
      "Epoch 10/50\n",
      "160/160 [==============================] - 0s 1ms/step - loss: 0.2645 - acc: 0.9414 - val_loss: 0.2861 - val_acc: 0.9250\n",
      "Epoch 11/50\n",
      "160/160 [==============================] - 0s 1ms/step - loss: 0.2417 - acc: 0.9531 - val_loss: 0.2616 - val_acc: 0.9250\n",
      "Epoch 12/50\n",
      "160/160 [==============================] - 0s 1ms/step - loss: 0.2203 - acc: 0.9563 - val_loss: 0.2435 - val_acc: 0.9375\n",
      "Epoch 13/50\n",
      "160/160 [==============================] - 0s 1ms/step - loss: 0.2045 - acc: 0.9563 - val_loss: 0.2192 - val_acc: 0.9438\n",
      "Epoch 14/50\n",
      "160/160 [==============================] - 0s 2ms/step - loss: 0.1887 - acc: 0.9664 - val_loss: 0.2072 - val_acc: 0.9375\n",
      "Epoch 15/50\n",
      "160/160 [==============================] - 0s 1ms/step - loss: 0.1769 - acc: 0.9664 - val_loss: 0.1934 - val_acc: 0.9375\n",
      "Epoch 16/50\n",
      "160/160 [==============================] - 0s 1ms/step - loss: 0.1645 - acc: 0.9734 - val_loss: 0.1834 - val_acc: 0.9500\n",
      "Epoch 17/50\n",
      "160/160 [==============================] - 0s 1ms/step - loss: 0.1556 - acc: 0.9742 - val_loss: 0.1769 - val_acc: 0.9406\n",
      "Epoch 18/50\n",
      "160/160 [==============================] - 0s 1ms/step - loss: 0.1465 - acc: 0.9820 - val_loss: 0.1696 - val_acc: 0.9406\n",
      "Epoch 19/50\n",
      "160/160 [==============================] - 0s 1ms/step - loss: 0.1385 - acc: 0.9836 - val_loss: 0.1636 - val_acc: 0.9438\n",
      "Epoch 20/50\n",
      "160/160 [==============================] - 0s 1ms/step - loss: 0.1331 - acc: 0.9781 - val_loss: 0.1518 - val_acc: 0.9531\n",
      "Epoch 21/50\n",
      "160/160 [==============================] - 0s 1ms/step - loss: 0.1251 - acc: 0.9844 - val_loss: 0.1467 - val_acc: 0.9625\n",
      "Epoch 22/50\n",
      "160/160 [==============================] - 0s 1ms/step - loss: 0.1206 - acc: 0.9797 - val_loss: 0.1434 - val_acc: 0.9563\n",
      "Epoch 23/50\n",
      "160/160 [==============================] - 0s 1ms/step - loss: 0.1151 - acc: 0.9812 - val_loss: 0.1392 - val_acc: 0.9563\n",
      "Epoch 24/50\n",
      "160/160 [==============================] - 0s 1ms/step - loss: 0.1099 - acc: 0.9836 - val_loss: 0.1394 - val_acc: 0.9563\n",
      "Epoch 25/50\n",
      "160/160 [==============================] - 0s 1ms/step - loss: 0.1059 - acc: 0.9828 - val_loss: 0.1356 - val_acc: 0.9469\n",
      "Epoch 26/50\n",
      "160/160 [==============================] - 0s 1ms/step - loss: 0.1013 - acc: 0.9875 - val_loss: 0.1304 - val_acc: 0.9500\n",
      "Epoch 27/50\n",
      "160/160 [==============================] - 0s 1ms/step - loss: 0.0961 - acc: 0.9875 - val_loss: 0.1309 - val_acc: 0.9469\n",
      "Epoch 28/50\n",
      "160/160 [==============================] - 0s 1ms/step - loss: 0.0929 - acc: 0.9875 - val_loss: 0.1312 - val_acc: 0.9469\n",
      "Epoch 29/50\n",
      "160/160 [==============================] - 0s 1ms/step - loss: 0.0906 - acc: 0.9898 - val_loss: 0.1255 - val_acc: 0.9469\n",
      "Epoch 30/50\n",
      "160/160 [==============================] - 0s 1ms/step - loss: 0.0870 - acc: 0.9891 - val_loss: 0.1250 - val_acc: 0.9438\n",
      "Epoch 31/50\n",
      "160/160 [==============================] - 0s 1ms/step - loss: 0.0826 - acc: 0.9883 - val_loss: 0.1230 - val_acc: 0.9531\n",
      "Epoch 32/50\n",
      "160/160 [==============================] - 0s 1ms/step - loss: 0.0807 - acc: 0.9898 - val_loss: 0.1210 - val_acc: 0.9563\n",
      "Epoch 33/50\n",
      "160/160 [==============================] - 0s 1ms/step - loss: 0.0798 - acc: 0.9859 - val_loss: 0.1238 - val_acc: 0.9438\n",
      "Epoch 34/50\n",
      "160/160 [==============================] - 0s 1ms/step - loss: 0.0752 - acc: 0.9906 - val_loss: 0.1168 - val_acc: 0.9656\n",
      "Epoch 35/50\n",
      "160/160 [==============================] - 0s 1ms/step - loss: 0.0727 - acc: 0.9930 - val_loss: 0.1196 - val_acc: 0.9469\n",
      "Epoch 36/50\n",
      "160/160 [==============================] - 0s 1ms/step - loss: 0.0707 - acc: 0.9914 - val_loss: 0.1167 - val_acc: 0.9500\n",
      "Epoch 37/50\n",
      "160/160 [==============================] - 0s 1ms/step - loss: 0.0692 - acc: 0.9914 - val_loss: 0.1181 - val_acc: 0.9531\n",
      "Epoch 38/50\n",
      "160/160 [==============================] - 0s 1ms/step - loss: 0.0666 - acc: 0.9914 - val_loss: 0.1148 - val_acc: 0.9500\n",
      "Epoch 39/50\n",
      "160/160 [==============================] - 0s 2ms/step - loss: 0.0647 - acc: 0.9922 - val_loss: 0.1105 - val_acc: 0.9531\n",
      "Epoch 40/50\n",
      "160/160 [==============================] - 0s 1ms/step - loss: 0.0615 - acc: 0.9922 - val_loss: 0.1150 - val_acc: 0.9500\n",
      "Epoch 41/50\n",
      "160/160 [==============================] - 0s 1ms/step - loss: 0.0607 - acc: 0.9930 - val_loss: 0.1163 - val_acc: 0.9531\n",
      "Epoch 42/50\n",
      "160/160 [==============================] - 0s 1ms/step - loss: 0.0583 - acc: 0.9922 - val_loss: 0.1125 - val_acc: 0.9563\n",
      "Epoch 43/50\n",
      "160/160 [==============================] - 0s 1ms/step - loss: 0.0558 - acc: 0.9945 - val_loss: 0.1191 - val_acc: 0.9406\n",
      "Epoch 44/50\n",
      "160/160 [==============================] - 0s 1ms/step - loss: 0.0555 - acc: 0.9937 - val_loss: 0.1125 - val_acc: 0.9531\n",
      "Epoch 45/50\n",
      "160/160 [==============================] - 0s 2ms/step - loss: 0.0530 - acc: 0.9937 - val_loss: 0.1108 - val_acc: 0.9469\n",
      "Epoch 46/50\n",
      "160/160 [==============================] - 0s 1ms/step - loss: 0.0513 - acc: 0.9945 - val_loss: 0.1162 - val_acc: 0.9406\n",
      "Epoch 47/50\n",
      "160/160 [==============================] - 0s 2ms/step - loss: 0.0494 - acc: 0.9945 - val_loss: 0.1242 - val_acc: 0.9406\n",
      "Epoch 48/50\n",
      "160/160 [==============================] - 0s 1ms/step - loss: 0.0488 - acc: 0.9961 - val_loss: 0.1153 - val_acc: 0.9469\n",
      "Epoch 49/50\n",
      "160/160 [==============================] - 0s 1ms/step - loss: 0.0460 - acc: 0.9961 - val_loss: 0.1107 - val_acc: 0.9469\n",
      "Epoch 50/50\n",
      "160/160 [==============================] - 0s 1ms/step - loss: 0.0448 - acc: 0.9961 - val_loss: 0.1154 - val_acc: 0.9438\n"
     ]
    }
   ],
   "source": [
    "history = model.fit(X_train, y_train, batch_size=BATCH_SIZE, \n",
    "                    epochs=NUM_OF_EPOCHS,\n",
    "                    verbose=1, validation_split=0.2)"
   ]
  },
  {
   "cell_type": "code",
   "execution_count": 25,
   "metadata": {},
   "outputs": [
    {
     "name": "stdout",
     "output_type": "stream",
     "text": [
      "13/13 [==============================] - 0s 1ms/step - loss: 0.0954 - acc: 0.9575\n",
      "Test Accuracy: 0.9574999809265137\n",
      "Test Loss: 0.09543399512767792\n"
     ]
    }
   ],
   "source": [
    "# Evaluate the model\n",
    "loss, accuracy = model.evaluate(X_test, y_test)\n",
    "print(\"Test Accuracy:\", accuracy)\n",
    "print(\"Test Loss:\", loss)\n"
   ]
  },
  {
   "cell_type": "code",
   "execution_count": 26,
   "metadata": {},
   "outputs": [],
   "source": [
    "# Save the model\n",
    "model.save('MobilePriceClassifyModel.h5')"
   ]
  },
  {
   "cell_type": "code",
   "execution_count": 27,
   "metadata": {},
   "outputs": [
    {
     "name": "stdout",
     "output_type": "stream",
     "text": [
      "<generator object representative_dataset at 0x00000163565CAD68>\n"
     ]
    }
   ],
   "source": [
    "def representative_dataset():\n",
    "    for _ in range(100):\n",
    "      data =  X_test\n",
    "      yield [data.astype(np.float32)]\n",
    "        \n",
    "print(representative_dataset())"
   ]
  },
  {
   "cell_type": "code",
   "execution_count": 28,
   "metadata": {},
   "outputs": [
    {
     "name": "stdout",
     "output_type": "stream",
     "text": [
      "INFO:tensorflow:Assets written to: saved_mobile_seq_model_keras_dir\\assets\n"
     ]
    },
    {
     "name": "stderr",
     "output_type": "stream",
     "text": [
      "INFO:tensorflow:Assets written to: saved_mobile_seq_model_keras_dir\\assets\n"
     ]
    }
   ],
   "source": [
    "tf.saved_model.save(model, \"saved_mobile_seq_model_keras_dir\")\n",
    "converter = tf.lite.TFLiteConverter.from_saved_model(\"saved_mobile_seq_model_keras_dir\")\n",
    "converter.optimizations = [tf.lite.Optimize.DEFAULT]\n",
    "converter.representative_dataset = representative_dataset\n",
    "\n",
    "tflite_model = converter.convert()"
   ]
  },
  {
   "cell_type": "code",
   "execution_count": 29,
   "metadata": {},
   "outputs": [],
   "source": [
    "with open('MobilePriceClassifyModel.tflite', 'wb') as f:\n",
    "  f.write(tflite_model)"
   ]
  },
  {
   "cell_type": "code",
   "execution_count": 30,
   "metadata": {},
   "outputs": [],
   "source": [
    "interpreter = tf.lite.Interpreter(model_path=\"MobilePriceClassifyModel.tflite\")\n",
    "interpreter.allocate_tensors()"
   ]
  },
  {
   "cell_type": "code",
   "execution_count": 31,
   "metadata": {},
   "outputs": [
    {
     "name": "stdout",
     "output_type": "stream",
     "text": [
      "input_details:\n",
      " [{'name': 'serving_default_flatten_input:0', 'index': 0, 'shape': array([ 1, 26]), 'shape_signature': array([-1, 26]), 'dtype': <class 'numpy.float32'>, 'quantization': (0.0, 0), 'quantization_parameters': {'scales': array([], dtype=float32), 'zero_points': array([], dtype=int32), 'quantized_dimension': 0}, 'sparsity_parameters': {}}]\n",
      "output_details:\n",
      " [{'name': 'StatefulPartitionedCall:0', 'index': 11, 'shape': array([1, 4]), 'shape_signature': array([-1,  4]), 'dtype': <class 'numpy.float32'>, 'quantization': (0.0, 0), 'quantization_parameters': {'scales': array([], dtype=float32), 'zero_points': array([], dtype=int32), 'quantized_dimension': 0}, 'sparsity_parameters': {}}]\n"
     ]
    }
   ],
   "source": [
    "input_details = interpreter.get_input_details()\n",
    "output_details = interpreter.get_output_details()\n",
    "print('input_details:\\n', input_details)\n",
    "print('output_details:\\n', output_details)"
   ]
  },
  {
   "cell_type": "code",
   "execution_count": 42,
   "metadata": {},
   "outputs": [],
   "source": [
    "X_train.iloc[:4, ].to_csv(\"sample.csv\", index=False)"
   ]
  },
  {
   "cell_type": "code",
   "execution_count": 38,
   "metadata": {},
   "outputs": [
    {
     "name": "stdout",
     "output_type": "stream",
     "text": [
      "Random input0_data: [[0.99472827 0.12711795 0.30644953 0.9852901  0.03399667 0.4070768\n",
      "  0.87210685 0.8088839  0.9857608  0.793143   0.26953802 0.11912376\n",
      "  0.9702564  0.7488302  0.24202262 0.09072242 0.69194186 0.13692406\n",
      "  0.26782095 0.9166444  0.3228377  0.08546323 0.3780372  0.42000934\n",
      "  0.39746937 0.9088032 ]]\n",
      "TFLite Model output for random input0_data: [[0.         0.         0.98046875 0.01953125]]\n",
      "1/1 [==============================] - 0s 19ms/step\n",
      "Keras Model output for random input0_data: [[9.3765097e-16 4.8534167e-07 9.8460478e-01 1.5394819e-02]]\n",
      "\n",
      "Custom input1_data: [[ 1.          0.          0.          1.          1.          0.\n",
      "   0.          1.          0.          1.          0.          1.\n",
      "   1.5483596  -1.2362298   0.754832   -0.00893505  0.6201112   1.4257103\n",
      "  -1.5474459   0.0202687   0.27571163  1.1819974  -0.5804763  -0.5280613\n",
      "   0.75950885 -1.4451226 ]]\n",
      "TFLite Model output for custom input1_data: [[0.    0.875 0.125 0.   ]]\n",
      "1/1 [==============================] - 0s 20ms/step\n",
      "Keras Model output for custom input1_data: [[7.4067628e-07 8.8681602e-01 1.1318328e-01 4.9287208e-10]]\n",
      "\n",
      "Custom input2_data: [[ 0.          1.          1.          0.          0.          1.\n",
      "   0.          1.          0.          1.          0.          1.\n",
      "  -1.3795348   0.83711153  0.91976255 -1.4036738  -0.9935611  -0.04624633\n",
      "   1.5103159  -1.4764966  -0.2587623  -0.5565473   1.3364532  -0.29019582\n",
      "  -1.0848686   0.91592914]]\n",
      "TFLite Model output for custom input2_data: [[0.         0.         0.59765625 0.40234375]]\n",
      "1/1 [==============================] - 0s 16ms/step\n",
      "Keras Model output for custom input2_data: [[2.65441690e-19 1.25709265e-08 5.71884274e-01 4.28115696e-01]]\n"
     ]
    }
   ],
   "source": [
    "# Test the model on random input data\n",
    "input_shape = input_details[0]['shape']\n",
    "\n",
    "# Random Input Test\n",
    "input0_data = np.random.random_sample(input_shape).astype(np.float32)\n",
    "print(\"Random input0_data:\", input0_data)\n",
    "interpreter.set_tensor(input_details[0]['index'], input0_data)\n",
    "interpreter.invoke()\n",
    "output0_data = interpreter.get_tensor(output_details[0]['index'])\n",
    "print(\"TFLite Model output for random input0_data:\", output0_data)\n",
    "\n",
    "# Verify with original Keras model\n",
    "keras_output0_data = model.predict(input0_data)\n",
    "print(\"Keras Model output for random input0_data:\", keras_output0_data)\n",
    "\n",
    "# Custom Test Input 1\n",
    "input1_data = np.array([[1,0,0,1,1,0,0,1,0,1,0,1,1.5483596911931745,-1.2362297611990014,0.7548320081354454,-0.008935045246663081,0.620111216247627,1.425710356522435,-1.547445876673227,0.02026869615452839,0.2757116213968109,1.181997413205301,-0.5804763077229776,-0.5280612756351722,0.759508832792765,-1.4451225785068857]], dtype=np.float32)\n",
    "print(\"\\nCustom input1_data:\", input1_data)\n",
    "interpreter.set_tensor(input_details[0]['index'], input1_data)\n",
    "interpreter.invoke()\n",
    "output1_data = interpreter.get_tensor(output_details[0]['index'])\n",
    "print(\"TFLite Model output for custom input1_data:\", output1_data)\n",
    "\n",
    "# Verify with original Keras model\n",
    "keras_output1_data = model.predict(input1_data)\n",
    "print(\"Keras Model output for custom input1_data:\", keras_output1_data)\n",
    "\n",
    "# Custom Test Input 2\n",
    "input2_data = np.array([[0,1,1,0,0,1,0,1,0,1,0,1,-1.3795347982761568,0.8371115573737471,0.9197625270288421,-1.4036738154575337,-0.9935610936904357,-0.04624633152097916,1.510315912095323,-1.4764965583337306,-0.2587622860340611,-0.5565472705139002,1.3364532557364845,-0.2901958361598695,-1.0848685262942002,0.9159291560735261]], dtype=np.float32)\n",
    "print(\"\\nCustom input2_data:\", input2_data)\n",
    "interpreter.set_tensor(input_details[0]['index'], input2_data)\n",
    "interpreter.invoke()\n",
    "output2_data = interpreter.get_tensor(output_details[0]['index'])\n",
    "print(\"TFLite Model output for custom input2_data:\", output2_data)\n",
    "\n",
    "# Verify with original Keras model\n",
    "keras_output2_data = model.predict(input2_data)\n",
    "print(\"Keras Model output for custom input2_data:\", keras_output2_data)"
   ]
  },
  {
   "cell_type": "code",
   "execution_count": 44,
   "metadata": {},
   "outputs": [
    {
     "name": "stdout",
     "output_type": "stream",
     "text": [
      "Keras model size: 36.19 KB\n",
      "TFLite model size: 3.63 KB\n"
     ]
    }
   ],
   "source": [
    "import os\n",
    "\n",
    "# Define the file paths\n",
    "keras_model_path = \"MobilePriceClassifyModel.h5\"\n",
    "tflite_model_path = \"MobilePriceClassifyModel.tflite\"\n",
    "\n",
    "# Get file sizes in KB\n",
    "keras_model_size = os.path.getsize(keras_model_path) / 1024  # Size in KB\n",
    "tflite_model_size = os.path.getsize(tflite_model_path) / 1024  # Size in KB\n",
    "\n",
    "print(f\"Keras model size: {keras_model_size:.2f} KB\")\n",
    "print(f\"TFLite model size: {tflite_model_size:.2f} KB\")"
   ]
  },
  {
   "cell_type": "code",
   "execution_count": 40,
   "metadata": {},
   "outputs": [],
   "source": [
    "# Function to convert some hex values into an array for C programming\n",
    "import time, sys\n",
    "\n",
    "# Function to convert some hex values into an array for C programming\n",
    "def hex_to_c_array(hex_data, var_name):\n",
    "    c_str = \"\"\n",
    "\n",
    "    # Create header guard\n",
    "    c_str += '#ifndef ' + var_name.upper() + '_H\\n'\n",
    "    c_str += \"#define \" + var_name.upper() + '_H\\n\\n'\n",
    "\n",
    "    c_str += \"/*\\n Author: Pranav P Kulkarni \\n\"\n",
    "    c_str += \" CAUTION: This is an auto generated file.\\n DO NOT EDIT OR MAKE ANY CHANGES TO IT.\\n\"\n",
    "\n",
    "# Time stamping of this model data in the generated file\n",
    "    localtime = time.asctime( time.localtime(time.time()) )\n",
    "    c_str += \" This model data was generated on \" + localtime+ '\\n\\n'\n",
    "    print(\"This model data was generated on:\", localtime)\n",
    "\n",
    "# Add information about the verisons of tools and packages used in generating this header file\n",
    "    c_str += \" Tools used:\\n Python:\" + str(sys.version) + \"\\n Numpy:\" + str(np.version.version) + \\\n",
    "          \"\\n TensorFlow:\" + str(sys.version) + \"\\n Keras: \"+ str(tf.keras.__version__) + \"\\n\\n\"\n",
    "    print(\"Tools used: Python:\", sys.version, \"\\n Numpy:\", np.version.version, \\\n",
    "          \"\\n TensorFlow:\", sys.version, \"\\n Keras: \", tf.keras.__version__, \"\\n\\n\")\n",
    "\n",
    "# Training details of the model\n",
    "    c_str += ' Model details are:\\n'\n",
    "    c_str += ' NUM_OF_EPOCHS = ' + str(NUM_OF_EPOCHS) + '\\n'\n",
    "    c_str += ' BATCH_SIZE    = ' + str(BATCH_SIZE) + '\\n*/\\n'\n",
    "    \n",
    "# Generate 'C' constants for the no. of nodes in each layer\n",
    "    c_str += '\\nconst int ' + 'DENSE1_SIZE' + ' = ' + str(DENSE1_SIZE) + ';\\n'\n",
    "    c_str +=   'const int ' + 'DENSE2_SIZE' + ' = ' + str(DENSE2_SIZE) + ';\\n'      \n",
    "    \n",
    "    # Add array length at the top of the file\n",
    "    c_str += '\\nconst unsigned int ' + var_name + '_len = ' + str(len(hex_data)) + ';\\n'\n",
    "\n",
    "    # Declare C variable\n",
    "    c_str += 'alignas(8) const unsigned char ' + var_name + '[] = {'\n",
    "    hex_array = []\n",
    "    for i, val in enumerate(hex_data):\n",
    "        # Construct string from hex\n",
    "        hex_str = format(val, '#04x')\n",
    "\n",
    "        # Add formating so each line stays within 80 characters\n",
    "        if (i + 1) < len(hex_data):\n",
    "          hex_str += ','\n",
    "        if (i + 1) % 12 == 0:\n",
    "          hex_str += '\\n'\n",
    "        hex_array.append(hex_str)\n",
    "\n",
    "    # Add closing brace\n",
    "    c_str += '\\n' + format(''.join(hex_array)) + '\\n};\\n\\n'\n",
    "\n",
    "    # Close out header guard\n",
    "    c_str += '#endif //' + var_name.upper() + '_H'\n",
    "\n",
    "    return c_str"
   ]
  },
  {
   "cell_type": "code",
   "execution_count": 41,
   "metadata": {},
   "outputs": [
    {
     "name": "stdout",
     "output_type": "stream",
     "text": [
      "This model data was generated on: Sat Nov  9 21:47:08 2024\n",
      "Tools used: Python: 3.7.1 (default, Oct 28 2018, 08:39:03) [MSC v.1912 64 bit (AMD64)] \n",
      " Numpy: 1.21.5 \n",
      " TensorFlow: 3.7.1 (default, Oct 28 2018, 08:39:03) [MSC v.1912 64 bit (AMD64)] \n",
      " Keras:  2.10.0 \n",
      "\n",
      "\n"
     ]
    }
   ],
   "source": [
    "# Write TFLite model to a C source (or header) file\n",
    "with open(\"MobilePriceClassify_model_esp32\" + '.h', 'w') as file:\n",
    "  file.write(hex_to_c_array(tflite_model, \"MobilePriceClassify_model_esp32\"))"
   ]
  }
 ],
 "metadata": {
  "kernelspec": {
   "display_name": "sem5_py_37",
   "language": "python",
   "name": "python3"
  },
  "language_info": {
   "codemirror_mode": {
    "name": "ipython",
    "version": 3
   },
   "file_extension": ".py",
   "mimetype": "text/x-python",
   "name": "python",
   "nbconvert_exporter": "python",
   "pygments_lexer": "ipython3",
   "version": "3.7.1"
  }
 },
 "nbformat": 4,
 "nbformat_minor": 2
}
